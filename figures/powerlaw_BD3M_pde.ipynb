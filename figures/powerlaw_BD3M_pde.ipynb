{
 "cells": [
  {
   "cell_type": "code",
   "execution_count": 1,
   "id": "9897acac-2d47-40e2-8fb2-f71a53a3f395",
   "metadata": {},
   "outputs": [],
   "source": [
    "import numpy as np\n",
    "import pandas as pd"
   ]
  },
  {
   "cell_type": "code",
   "execution_count": 2,
   "id": "52969906-03c3-46a2-bd8e-24989da5195d",
   "metadata": {},
   "outputs": [],
   "source": [
    "N = np.log([324e+6, 896e+6, 1300e+6])\n",
    "L = np.log([.772, .234, .299])\n",
    "\n",
    "df = pd.DataFrame([L,N]).T\n",
    "df.index = N"
   ]
  },
  {
   "cell_type": "code",
   "execution_count": 3,
   "id": "7d6f4019-2e78-4f8e-a601-9a4f652783ad",
   "metadata": {},
   "outputs": [
    {
     "data": {
      "text/plain": [
       "19.596254   -0.258771\n",
       "20.613451   -1.452434\n",
       "20.985630   -1.207312\n",
       "Name: 0, dtype: float64"
      ]
     },
     "execution_count": 3,
     "metadata": {},
     "output_type": "execute_result"
    }
   ],
   "source": [
    "df[0]"
   ]
  },
  {
   "cell_type": "code",
   "execution_count": 6,
   "id": "16b71707-709b-4519-80bb-ec391d7efaea",
   "metadata": {},
   "outputs": [
    {
     "name": "stdout",
     "output_type": "stream",
     "text": [
      "Optimal parameters: \n",
      "\n",
      "a = -0.78646 +/- 0.38708\n",
      "b = 15.069758914804394 +/- 7.899166400802378\n",
      "\n",
      "alpha = 0.78646 +/- 0.38708\n",
      "Nc = 2.0976e+08 +/- 2.4363e+09\n"
     ]
    }
   ],
   "source": [
    "from scipy.optimize import curve_fit\n",
    "\n",
    "# Define the linear function\n",
    "def linear_function(x, a, b):\n",
    "    return a * x + b\n",
    "\n",
    "# Sample data\n",
    "x_data = N\n",
    "y_data = L\n",
    "\n",
    "# Perform the linear fit\n",
    "popt, pcov = curve_fit(linear_function, x_data, y_data)\n",
    "\n",
    "# Extract the optimal parameters\n",
    "a_optimal, b_optimal = popt\n",
    "\n",
    "# Calculate the standard errors of the parameters\n",
    "a_error, b_error = np.sqrt(np.diag(pcov))\n",
    "\n",
    "alpha = -a_optimal\n",
    "Nc = np.exp(b_optimal/-a_optimal)\n",
    "Nc_error = np.sqrt( b_error**2 * (Nc/a_optimal)**2 + a_error**2 * (b_optimal*Nc)**2) \n",
    "\n",
    "# Print the results\n",
    "print(\"Optimal parameters: \\n\")\n",
    "print(f\"a = {a_optimal:.5f} +/- {a_error:.5f}\")\n",
    "print(\"b =\", b_optimal, \"+/-\", b_error)\n",
    "print()\n",
    "print(f\"alpha = {alpha:.5f} +/- {a_error:.5f}\")\n",
    "print(f\"Nc = {Nc:.4e} +/- {Nc_error:.4e}\")"
   ]
  },
  {
   "cell_type": "code",
   "execution_count": 5,
   "id": "cb5e2265-1991-4ae1-9bae-0a69ba0e5adb",
   "metadata": {},
   "outputs": [
    {
     "data": {
      "text/plain": [
       "<Axes: >"
      ]
     },
     "execution_count": 5,
     "metadata": {},
     "output_type": "execute_result"
    },
    {
     "data": {
      "image/png": "[encoded data removed]",
      "text/plain": [
       "<Figure size 640x480 with 1 Axes>"
      ]
     },
     "metadata": {},
     "output_type": "display_data"
    }
   ],
   "source": [
    "df[0].plot(linestyle='none',marker='o',fillstyle='none',markersize=10,legend=None)"
   ]
  },
  {
   "cell_type": "code",
   "execution_count": null,
   "id": "2495acb7-4a90-48a7-9322-1a7d9233d046",
   "metadata": {},
   "outputs": [],
   "source": []
  }
 ],
 "metadata": {
  "kernelspec": {
   "display_name": "Python 3 (ipykernel)",
   "language": "python",
   "name": "python3"
  },
  "language_info": {
   "codemirror_mode": {
    "name": "ipython",
    "version": 3
   },
   "file_extension": ".py",
   "mimetype": "text/x-python",
   "name": "python",
   "nbconvert_exporter": "python",
   "pygments_lexer": "ipython3",
   "version": "3.12.1"
  }
 },
 "nbformat": 4,
 "nbformat_minor": 5
}
